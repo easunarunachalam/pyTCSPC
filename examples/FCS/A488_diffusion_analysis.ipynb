{
 "cells": [
  {
   "cell_type": "markdown",
   "id": "63569dfc",
   "metadata": {},
   "source": [
    "# FCS measurement of freely diffusing Alexa 488\n",
    "\n",
    "Note that the original dataset used for this analysis contains 200 spc files. For illustrative purposes, the first ten files have been included in this example."
   ]
  },
  {
   "cell_type": "code",
   "execution_count": 1,
   "id": "0f5a39df-277a-42ad-bbfc-cd2d2402524c",
   "metadata": {},
   "outputs": [],
   "source": [
    "%load_ext autoreload\n",
    "%autoreload 2"
   ]
  },
  {
   "cell_type": "code",
   "execution_count": 82,
   "id": "22f1b07f-a5fd-4582-adb3-e3bb6a5e645b",
   "metadata": {},
   "outputs": [],
   "source": [
    "from copy import deepcopy\n",
    "from glob import glob\n",
    "from pathlib import Path, PurePath\n",
    "\n",
    "import matplotlib.pyplot as plt\n",
    "%matplotlib inline\n",
    "\n",
    "plt.rcParams.update({\n",
    "    \"text.usetex\": False,\n",
    "    \"font.family\": \"sans-serif\",\n",
    "    \"font.serif\":\"Computer Modern\",\n",
    "    \"font.sans-serif\":\"Arial\",\n",
    "    \"font.size\": 14,\n",
    "    \"mathtext.fontset\": \"cm\",\n",
    "    \"svg.fonttype\": \"none\",\n",
    "})\n",
    "\n",
    "import numpy as np\n",
    "from scipy.optimize import curve_fit, least_squares\n",
    "from tqdm.notebook import tqdm, trange\n",
    "import xarray as xr\n",
    "\n",
    "import sys\n",
    "sys.path.append(r\"D:\\Dropbox\\code\\pyTCSPC\")\n",
    "\n",
    "import pyTCSPC as pc\n",
    "\n",
    "import multipletau as mt"
   ]
  },
  {
   "cell_type": "code",
   "execution_count": 3,
   "id": "ffa825ee-6646-4b1f-9c40-803bd0f15d10",
   "metadata": {},
   "outputs": [
    {
     "data": {
      "text/plain": [
       "200"
      ]
     },
     "execution_count": 3,
     "metadata": {},
     "output_type": "execute_result"
    }
   ],
   "source": [
    "# set directory containing all spc files\n",
    "data_dir = \"A488_data/\"\n",
    "\n",
    "# get path of all spc files\n",
    "spc_fns = glob(data_dir + \"/*.spc\")\n",
    "len(spc_fns)"
   ]
  },
  {
   "cell_type": "code",
   "execution_count": 6,
   "id": "8bc49f0e-2f1d-4db7-84e3-3c82baced5e0",
   "metadata": {},
   "outputs": [
    {
     "data": {
      "application/vnd.jupyter.widget-view+json": {
       "model_id": "966ac1eb52184135a74981ad470f9a2a",
       "version_major": 2,
       "version_minor": 0
      },
      "text/plain": [
       "  0%|          | 0/200 [00:00<?, ?it/s]"
      ]
     },
     "metadata": {},
     "output_type": "display_data"
    }
   ],
   "source": [
    "# initial processing of spc files\n",
    "for spc_fn in tqdm(spc_fns):\n",
    "    # this command reads the spc file and saves the data in it to a NetCDF (.nc) file that is used for downstream analysis\n",
    "    spc = pc.SPC(spc_fn, pixels_per_line=1, nlines=1, n_lines_skip=0, read_paired_sdt=False, show_progress=False, save_images=False)"
   ]
  },
  {
   "cell_type": "code",
   "execution_count": 56,
   "id": "af5082d0-3572-46ef-8fe9-61eb669696dc",
   "metadata": {},
   "outputs": [
    {
     "data": {
      "application/vnd.jupyter.widget-view+json": {
       "model_id": "c6001a83876d49968731167741d0c879",
       "version_major": 2,
       "version_minor": 0
      },
      "text/plain": [
       "  0%|          | 0/200 [00:00<?, ?it/s]"
      ]
     },
     "metadata": {},
     "output_type": "display_data"
    }
   ],
   "source": [
    "# calculate correlation functions\n",
    "\n",
    "nc_fns = [Path(spc_fn).with_suffix(\".nc\") for spc_fn in spc_fns]\n",
    "\n",
    "acfs = []\n",
    "nphotons = []\n",
    "for nc_fn in tqdm(nc_fns):\n",
    "    lag_time, curr_acf, curr_nphotons = pc.calc_acf(nc_fn, maxtime_subtraj=1)\n",
    "    acfs.append(curr_acf)\n",
    "    nphotons.append(curr_nphotons)"
   ]
  },
  {
   "cell_type": "code",
   "execution_count": 57,
   "id": "d3cd5bb6-c4a1-4e29-822a-21725f4870a7",
   "metadata": {},
   "outputs": [],
   "source": [
    "mean_acf = 1 + np.array([nphotons[i]*acfs[i] for i in range(len(acfs))]).sum(axis=0)/np.sum(nphotons)"
   ]
  },
  {
   "cell_type": "code",
   "execution_count": 86,
   "id": "b83f1e94-0af0-40e3-88a6-d82449268105",
   "metadata": {},
   "outputs": [
    {
     "data": {
      "text/plain": [
       "(array([0.45683612, 0.4223979 , 1.00030531]),\n",
       " array([[ 1.15561975e-04,  1.62120478e-04,  2.77349971e-07],\n",
       "        [ 1.62120478e-04,  4.53118115e-04, -1.40397974e-06],\n",
       "        [ 2.77349971e-07, -1.40397974e-06,  4.13579372e-08]]))"
      ]
     },
     "execution_count": 86,
     "metadata": {},
     "output_type": "execute_result"
    },
    {
     "data": {
      "image/png": "[encoded data removed]",
      "text/plain": [
       "<Figure size 432x288 with 1 Axes>"
      ]
     },
     "metadata": {
      "needs_background": "light"
     },
     "output_type": "display_data"
    }
   ],
   "source": [
    "fig, ax = plt.subplots(figsize=(6,4))\n",
    "\n",
    "ax.plot(lag_time, mean_acf, \"o\", color=\"k\")\n",
    "\n",
    "ax.axhline(y=1, color=\"gray\", alpha=0.8, linestyle=\"--\")\n",
    "ax.set_xscale(\"log\")\n",
    "ax.set_xlabel(r\"$\\tau$/s\")\n",
    "ax.set_ylabel(r\"$G(I)= \\langle \\delta I(t) \\delta I (t+\\tau) \\rangle$\")\n",
    "\n",
    "# fit to model\n",
    "\n",
    "def diffusion_acf(t, Veff, wxy, Ginf):\n",
    "    D = 435 # um2/s\n",
    "    chi2 = 1.1\n",
    "    C = 60.22 # um^-3\n",
    "    wz = np.power(2/np.pi,3/2) * Veff / (wxy**2)\n",
    "    prefac = 1/(Veff*chi2*C)\n",
    "    Txy    = 1/(1+(8*D*t/(wxy**2)))\n",
    "    Tz     = 1/(1+(8*D*t/(wz**2)))\n",
    "    return prefac*Txy*np.sqrt(Tz) + Ginf\n",
    "\n",
    "## bounds to use for fitting\n",
    "istartlag, iendlag = 0, -1\n",
    "\n",
    "## perform fitting\n",
    "popt, pcov = curve_fit(diffusion_acf, lag_time[istartlag:iendlag], mean_acf[istartlag:iendlag], p0=(0.3, 0.4, 1), sigma=np.sqrt(mean_acf[istartlag:iendlag]))\n",
    "yy = diffusion_acf(lag_time, *popt)\n",
    "\n",
    "## and show fit\n",
    "ax.plot(lag_time[istartlag:iendlag], yy[istartlag:iendlag], color=\"crimson\", lw=2)\n",
    "ax.set_title(r\"$V_{eff} =$\" + f\" {popt[0]:2.2f} \" + r\"μm$^3$, $w_{xy}$\" + f\" = {popt[1]:2.2f} μm\")\n",
    "\n",
    "plt.savefig(f\"A488_FCS.png\", dpi=300, bbox_inches=\"tight\")\n",
    "popt, pcov"
   ]
  },
  {
   "cell_type": "code",
   "execution_count": null,
   "id": "2fa46c8a-9fe1-4a5a-b90a-1882d25fc530",
   "metadata": {},
   "outputs": [],
   "source": []
  }
 ],
 "metadata": {
  "kernelspec": {
   "display_name": "Python 3 (ipykernel)",
   "language": "python",
   "name": "python3"
  },
  "language_info": {
   "codemirror_mode": {
    "name": "ipython",
    "version": 3
   },
   "file_extension": ".py",
   "mimetype": "text/x-python",
   "name": "python",
   "nbconvert_exporter": "python",
   "pygments_lexer": "ipython3",
   "version": "3.9.7"
  }
 },
 "nbformat": 4,
 "nbformat_minor": 5
}
